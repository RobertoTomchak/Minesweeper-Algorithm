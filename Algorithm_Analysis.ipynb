{
 "cells": [
  {
   "cell_type": "markdown",
   "id": "940acdb3",
   "metadata": {},
   "source": [
    "# Minesweeper Algorithm Analysis"
   ]
  },
  {
   "cell_type": "markdown",
   "id": "051de551",
   "metadata": {},
   "source": [
    "The objective of this analysis is to better understand the perfrmance of the minesweeper algorithm.<br><br>\n",
    "Here, I'm only analysing hard mode games, but you can see what the results are with other modes using the data collected from \"benchmarks.py\"."
   ]
  },
  {
   "cell_type": "markdown",
   "id": "f26da159",
   "metadata": {},
   "source": [
    "## Importing Data "
   ]
  },
  {
   "cell_type": "code",
   "execution_count": 1,
   "id": "df05ecab",
   "metadata": {},
   "outputs": [
    {
     "data": {
      "text/html": [
       "<div>\n",
       "<style scoped>\n",
       "    .dataframe tbody tr th:only-of-type {\n",
       "        vertical-align: middle;\n",
       "    }\n",
       "\n",
       "    .dataframe tbody tr th {\n",
       "        vertical-align: top;\n",
       "    }\n",
       "\n",
       "    .dataframe thead th {\n",
       "        text-align: right;\n",
       "    }\n",
       "</style>\n",
       "<table border=\"1\" class=\"dataframe\">\n",
       "  <thead>\n",
       "    <tr style=\"text-align: right;\">\n",
       "      <th></th>\n",
       "      <th>id</th>\n",
       "      <th>won</th>\n",
       "      <th>time</th>\n",
       "      <th>main_strategy</th>\n",
       "      <th>strategies</th>\n",
       "    </tr>\n",
       "  </thead>\n",
       "  <tbody>\n",
       "    <tr>\n",
       "      <th>0</th>\n",
       "      <td>1</td>\n",
       "      <td>0</td>\n",
       "      <td>0.001007</td>\n",
       "      <td>3</td>\n",
       "      <td>3</td>\n",
       "    </tr>\n",
       "    <tr>\n",
       "      <th>1</th>\n",
       "      <td>2</td>\n",
       "      <td>0</td>\n",
       "      <td>0.002004</td>\n",
       "      <td>3</td>\n",
       "      <td>123</td>\n",
       "    </tr>\n",
       "    <tr>\n",
       "      <th>2</th>\n",
       "      <td>3</td>\n",
       "      <td>0</td>\n",
       "      <td>0.011514</td>\n",
       "      <td>3</td>\n",
       "      <td>123</td>\n",
       "    </tr>\n",
       "    <tr>\n",
       "      <th>3</th>\n",
       "      <td>4</td>\n",
       "      <td>0</td>\n",
       "      <td>0.023955</td>\n",
       "      <td>3</td>\n",
       "      <td>123</td>\n",
       "    </tr>\n",
       "    <tr>\n",
       "      <th>4</th>\n",
       "      <td>5</td>\n",
       "      <td>0</td>\n",
       "      <td>0.026354</td>\n",
       "      <td>3</td>\n",
       "      <td>123</td>\n",
       "    </tr>\n",
       "    <tr>\n",
       "      <th>...</th>\n",
       "      <td>...</td>\n",
       "      <td>...</td>\n",
       "      <td>...</td>\n",
       "      <td>...</td>\n",
       "      <td>...</td>\n",
       "    </tr>\n",
       "    <tr>\n",
       "      <th>9995</th>\n",
       "      <td>9996</td>\n",
       "      <td>0</td>\n",
       "      <td>0.003015</td>\n",
       "      <td>3</td>\n",
       "      <td>13</td>\n",
       "    </tr>\n",
       "    <tr>\n",
       "      <th>9996</th>\n",
       "      <td>9997</td>\n",
       "      <td>0</td>\n",
       "      <td>0.025000</td>\n",
       "      <td>3</td>\n",
       "      <td>123</td>\n",
       "    </tr>\n",
       "    <tr>\n",
       "      <th>9997</th>\n",
       "      <td>9998</td>\n",
       "      <td>0</td>\n",
       "      <td>0.015011</td>\n",
       "      <td>3</td>\n",
       "      <td>123</td>\n",
       "    </tr>\n",
       "    <tr>\n",
       "      <th>9998</th>\n",
       "      <td>9999</td>\n",
       "      <td>0</td>\n",
       "      <td>0.016079</td>\n",
       "      <td>3</td>\n",
       "      <td>123</td>\n",
       "    </tr>\n",
       "    <tr>\n",
       "      <th>9999</th>\n",
       "      <td>10000</td>\n",
       "      <td>0</td>\n",
       "      <td>0.001011</td>\n",
       "      <td>3</td>\n",
       "      <td>13</td>\n",
       "    </tr>\n",
       "  </tbody>\n",
       "</table>\n",
       "<p>10000 rows × 5 columns</p>\n",
       "</div>"
      ],
      "text/plain": [
       "         id  won      time  main_strategy  strategies\n",
       "0         1    0  0.001007              3           3\n",
       "1         2    0  0.002004              3         123\n",
       "2         3    0  0.011514              3         123\n",
       "3         4    0  0.023955              3         123\n",
       "4         5    0  0.026354              3         123\n",
       "...     ...  ...       ...            ...         ...\n",
       "9995   9996    0  0.003015              3          13\n",
       "9996   9997    0  0.025000              3         123\n",
       "9997   9998    0  0.015011              3         123\n",
       "9998   9999    0  0.016079              3         123\n",
       "9999  10000    0  0.001011              3          13\n",
       "\n",
       "[10000 rows x 5 columns]"
      ]
     },
     "execution_count": 1,
     "metadata": {},
     "output_type": "execute_result"
    }
   ],
   "source": [
    "import pandas as pd\n",
    "import matplotlib.pyplot as plt\n",
    "df = pd.read_csv(\"minesweeper_data\")\n",
    "df"
   ]
  },
  {
   "cell_type": "code",
   "execution_count": 2,
   "id": "87243c0e",
   "metadata": {},
   "outputs": [
    {
     "data": {
      "text/html": [
       "<div>\n",
       "<style scoped>\n",
       "    .dataframe tbody tr th:only-of-type {\n",
       "        vertical-align: middle;\n",
       "    }\n",
       "\n",
       "    .dataframe tbody tr th {\n",
       "        vertical-align: top;\n",
       "    }\n",
       "\n",
       "    .dataframe thead th {\n",
       "        text-align: right;\n",
       "    }\n",
       "</style>\n",
       "<table border=\"1\" class=\"dataframe\">\n",
       "  <thead>\n",
       "    <tr style=\"text-align: right;\">\n",
       "      <th></th>\n",
       "      <th>id</th>\n",
       "      <th>won</th>\n",
       "      <th>time</th>\n",
       "      <th>main_strategy</th>\n",
       "      <th>strategies</th>\n",
       "    </tr>\n",
       "  </thead>\n",
       "  <tbody>\n",
       "    <tr>\n",
       "      <th>count</th>\n",
       "      <td>10000.00000</td>\n",
       "      <td>10000.000000</td>\n",
       "      <td>10000.000000</td>\n",
       "      <td>10000.00000</td>\n",
       "      <td>10000.000000</td>\n",
       "    </tr>\n",
       "    <tr>\n",
       "      <th>mean</th>\n",
       "      <td>5000.50000</td>\n",
       "      <td>0.065400</td>\n",
       "      <td>0.016317</td>\n",
       "      <td>2.88400</td>\n",
       "      <td>92.749400</td>\n",
       "    </tr>\n",
       "    <tr>\n",
       "      <th>std</th>\n",
       "      <td>2886.89568</td>\n",
       "      <td>0.247243</td>\n",
       "      <td>0.013266</td>\n",
       "      <td>0.46751</td>\n",
       "      <td>49.923328</td>\n",
       "    </tr>\n",
       "    <tr>\n",
       "      <th>min</th>\n",
       "      <td>1.00000</td>\n",
       "      <td>0.000000</td>\n",
       "      <td>0.000000</td>\n",
       "      <td>1.00000</td>\n",
       "      <td>1.000000</td>\n",
       "    </tr>\n",
       "    <tr>\n",
       "      <th>25%</th>\n",
       "      <td>2500.75000</td>\n",
       "      <td>0.000000</td>\n",
       "      <td>0.004521</td>\n",
       "      <td>3.00000</td>\n",
       "      <td>13.000000</td>\n",
       "    </tr>\n",
       "    <tr>\n",
       "      <th>50%</th>\n",
       "      <td>5000.50000</td>\n",
       "      <td>0.000000</td>\n",
       "      <td>0.015003</td>\n",
       "      <td>3.00000</td>\n",
       "      <td>123.000000</td>\n",
       "    </tr>\n",
       "    <tr>\n",
       "      <th>75%</th>\n",
       "      <td>7500.25000</td>\n",
       "      <td>0.000000</td>\n",
       "      <td>0.023907</td>\n",
       "      <td>3.00000</td>\n",
       "      <td>123.000000</td>\n",
       "    </tr>\n",
       "    <tr>\n",
       "      <th>max</th>\n",
       "      <td>10000.00000</td>\n",
       "      <td>1.000000</td>\n",
       "      <td>0.104189</td>\n",
       "      <td>3.00000</td>\n",
       "      <td>123.000000</td>\n",
       "    </tr>\n",
       "  </tbody>\n",
       "</table>\n",
       "</div>"
      ],
      "text/plain": [
       "                id           won          time  main_strategy    strategies\n",
       "count  10000.00000  10000.000000  10000.000000    10000.00000  10000.000000\n",
       "mean    5000.50000      0.065400      0.016317        2.88400     92.749400\n",
       "std     2886.89568      0.247243      0.013266        0.46751     49.923328\n",
       "min        1.00000      0.000000      0.000000        1.00000      1.000000\n",
       "25%     2500.75000      0.000000      0.004521        3.00000     13.000000\n",
       "50%     5000.50000      0.000000      0.015003        3.00000    123.000000\n",
       "75%     7500.25000      0.000000      0.023907        3.00000    123.000000\n",
       "max    10000.00000      1.000000      0.104189        3.00000    123.000000"
      ]
     },
     "execution_count": 2,
     "metadata": {},
     "output_type": "execute_result"
    }
   ],
   "source": [
    "df.describe()"
   ]
  },
  {
   "cell_type": "code",
   "execution_count": 3,
   "id": "ce7103ba",
   "metadata": {},
   "outputs": [
    {
     "name": "stdout",
     "output_type": "stream",
     "text": [
      "<class 'pandas.core.frame.DataFrame'>\n",
      "RangeIndex: 10000 entries, 0 to 9999\n",
      "Data columns (total 5 columns):\n",
      " #   Column         Non-Null Count  Dtype  \n",
      "---  ------         --------------  -----  \n",
      " 0   id             10000 non-null  int64  \n",
      " 1   won            10000 non-null  int64  \n",
      " 2   time           10000 non-null  float64\n",
      " 3   main_strategy  10000 non-null  int64  \n",
      " 4   strategies     10000 non-null  int64  \n",
      "dtypes: float64(1), int64(4)\n",
      "memory usage: 390.8 KB\n"
     ]
    }
   ],
   "source": [
    "df.info()"
   ]
  },
  {
   "cell_type": "markdown",
   "id": "1f730f4f",
   "metadata": {},
   "source": [
    "## Treating Data "
   ]
  },
  {
   "cell_type": "code",
   "execution_count": 4,
   "id": "6c59f217",
   "metadata": {},
   "outputs": [],
   "source": [
    "# Change Main Strategies Name\n",
    "df[\"main_strategy\"] = df[\"main_strategy\"].replace({1: \"Default\", 2: \"Simulations\", 3:\"Guesses\"})\n",
    "\n",
    "# Change Strategies to string (easier to manipulate)\n",
    "df[\"strategies\"] = df[\"strategies\"].astype(str)"
   ]
  },
  {
   "cell_type": "markdown",
   "id": "9b6fc8da",
   "metadata": {},
   "source": [
    "## Analysis "
   ]
  },
  {
   "cell_type": "markdown",
   "id": "79779b09",
   "metadata": {},
   "source": [
    "OBSERVATION: since the games are randomly created, it's likely the data presented will slighly chance if you run the \"benchmarks.py\" file again. Therefore, the conclusions at the end of each session will not consider the specific number analysed, but rather an approximation (example: instead of 51.43%, the conclusion will consider about 50%)."
   ]
  },
  {
   "cell_type": "markdown",
   "id": "1e725c24",
   "metadata": {},
   "source": [
    "### Accuracy Performance "
   ]
  },
  {
   "cell_type": "code",
   "execution_count": 5,
   "id": "58acfad7",
   "metadata": {},
   "outputs": [
    {
     "name": "stdout",
     "output_type": "stream",
     "text": [
      "Win Rate: 6.54%\n"
     ]
    }
   ],
   "source": [
    "# Win rate\n",
    "win_rate = df[\"won\"].mean()\n",
    "print(f\"Win Rate: {round(100 * win_rate, 2)}%\")"
   ]
  },
  {
   "cell_type": "code",
   "execution_count": 6,
   "id": "cb1bae00",
   "metadata": {},
   "outputs": [
    {
     "data": {
      "text/html": [
       "<div>\n",
       "<style scoped>\n",
       "    .dataframe tbody tr th:only-of-type {\n",
       "        vertical-align: middle;\n",
       "    }\n",
       "\n",
       "    .dataframe tbody tr th {\n",
       "        vertical-align: top;\n",
       "    }\n",
       "\n",
       "    .dataframe thead th {\n",
       "        text-align: right;\n",
       "    }\n",
       "</style>\n",
       "<table border=\"1\" class=\"dataframe\">\n",
       "  <thead>\n",
       "    <tr style=\"text-align: right;\">\n",
       "      <th></th>\n",
       "      <th>id</th>\n",
       "      <th>won</th>\n",
       "      <th>time</th>\n",
       "      <th>strategies</th>\n",
       "    </tr>\n",
       "    <tr>\n",
       "      <th>main_strategy</th>\n",
       "      <th></th>\n",
       "      <th></th>\n",
       "      <th></th>\n",
       "      <th></th>\n",
       "    </tr>\n",
       "  </thead>\n",
       "  <tbody>\n",
       "    <tr>\n",
       "      <th>Guesses</th>\n",
       "      <td>1.0</td>\n",
       "      <td>1.0</td>\n",
       "      <td>1.0</td>\n",
       "      <td>1.0</td>\n",
       "    </tr>\n",
       "  </tbody>\n",
       "</table>\n",
       "</div>"
      ],
      "text/plain": [
       "                id  won  time  strategies\n",
       "main_strategy                            \n",
       "Guesses        1.0  1.0   1.0         1.0"
      ]
     },
     "execution_count": 6,
     "metadata": {},
     "output_type": "execute_result"
    }
   ],
   "source": [
    "# What strategy made it lose?\n",
    "main_strategies_losses = df[df[\"won\"] == 0].groupby(\"main_strategy\").count() / len(df[df[\"won\"] == 0])\n",
    "main_strategies_losses"
   ]
  },
  {
   "cell_type": "code",
   "execution_count": 7,
   "id": "c8907b96",
   "metadata": {},
   "outputs": [
    {
     "name": "stdout",
     "output_type": "stream",
     "text": [
      "Default : 100.0% of games that were won\n",
      "Simulations : 95.11% of games that were won\n",
      "Guesses : 84.25% of games that were won\n"
     ]
    }
   ],
   "source": [
    "# How much each strategy was used in the games that were won?\n",
    "games_won = df[df[\"won\"] == 1]\n",
    "n_strategy1 = len(games_won[games_won[\"strategies\"].str.contains(\"1\")])\n",
    "n_strategy2 = len(games_won[games_won[\"strategies\"].str.contains(\"2\")])\n",
    "n_strategy3 = len(games_won[games_won[\"strategies\"].str.contains(\"3\")])\n",
    "\n",
    "print(f\"Default : {round(100 * n_strategy1 / len(games_won), 2)}% of games that were won\")\n",
    "print(f\"Simulations : {round(100 * n_strategy2 / len(games_won), 2)}% of games that were won\")\n",
    "print(f\"Guesses : {round(100 * n_strategy3 / len(games_won), 2)}% of games that were won\")"
   ]
  },
  {
   "cell_type": "code",
   "execution_count": 8,
   "id": "d083cfbe",
   "metadata": {},
   "outputs": [
    {
     "name": "stdout",
     "output_type": "stream",
     "text": [
      "Games that just used Default Strategy to win: 1.99% of games that were won\n",
      "Games were the algorithm had to guess: 98.97% of total games\n",
      "Rate of correct guesses: 5.57%\n"
     ]
    }
   ],
   "source": [
    "# How many games were won just using the Default Strategy?\n",
    "# How many games did the algorithm had to guess in total?\n",
    "# How many guesses where correct?\n",
    "n_just_strategy1 = len(games_won[games_won[\"strategies\"] == \"1\"])\n",
    "n_strategy3_total = len(df[df[\"strategies\"].str.contains(\"3\")])\n",
    "\n",
    "print(f\"Games that just used Default Strategy to win: {round(100 * n_just_strategy1 / len(games_won), 2)}% of games that were won\")\n",
    "print(f\"Games were the algorithm had to guess: {round(100 * n_strategy3_total / len(df), 2)}% of total games\")\n",
    "print(f\"Rate of correct guesses: {round(100 * n_strategy3 / n_strategy3_total, 2)}%\")"
   ]
  },
  {
   "cell_type": "markdown",
   "id": "e96db09f",
   "metadata": {},
   "source": [
    "As we can see, the algorithm can win about 6% of games in hard mode. According to my research, most algorithms perform around 5%, as well as good players, so this seem as a quite good win rate.<br><br>\n",
    "In the second cell, we also see that all games where lost due to guessing. This is to be expected, since the other two strategies were created to always be corrected, so this confirms that the algorithm is working as intended.<br><br>\n",
    "In the third cell, we can see the default strategy was used in all games that were won (again, to be expected), simulations where used in almost 100% of the games (which probably means that this strategy was very useful) and the algorithm had to guess in more than 80% of the games that were won.<br><br>\n",
    "Finally, we can see that only a very small porcentage (2%) of the games were won just using the Default Strategy. This gives more evidence to the hypothesis that, using only this strategy, you can't win a lot of games in hard mode. We also discover that we have to guess in almost all the games, with a sucess guess rate of only about 5%."
   ]
  },
  {
   "cell_type": "markdown",
   "id": "d4934dbd",
   "metadata": {},
   "source": [
    "### Time Performance "
   ]
  },
  {
   "cell_type": "code",
   "execution_count": 9,
   "id": "2e3a7b05",
   "metadata": {},
   "outputs": [
    {
     "name": "stdout",
     "output_type": "stream",
     "text": [
      "Average Time: 0.01632 seconds\n",
      "Average Time for Wins: 0.02935 seconds\n",
      "Average Time for Losses: 0.0154 seconds\n",
      "On average, the algorithm can play 61 games in one second\n"
     ]
    }
   ],
   "source": [
    "# Average time and time divided by wins and losses (in seconds)\n",
    "avg_time_total = df[\"time\"].mean()\n",
    "avg_time_wins = df[df[\"won\"] == 1][\"time\"].mean()\n",
    "avg_time_losses = df[df[\"won\"] == 0][\"time\"].mean()\n",
    "\n",
    "print(f\"Average Time: {round(avg_time_total, 5)} seconds\")\n",
    "print(f\"Average Time for Wins: {round(avg_time_wins, 5)} seconds\")\n",
    "print(f\"Average Time for Losses: {round(avg_time_losses, 5)} seconds\")\n",
    "print(f\"On average, the algorithm can play {round(1 / avg_time_total)} games in one second\")"
   ]
  },
  {
   "cell_type": "code",
   "execution_count": 10,
   "id": "4002fd67",
   "metadata": {},
   "outputs": [
    {
     "name": "stdout",
     "output_type": "stream",
     "text": [
      "Slowest Game Time: 0.09781 seconds\n",
      "Fastest Game Time: 0.014 seconds\n"
     ]
    }
   ],
   "source": [
    "# Slowest and Fastest games (only considering wins, since a lost game can end almost instantaneously)\n",
    "slowest_game_time = df[df[\"won\"] == 1][\"time\"].max()\n",
    "fastest_game_time = df[df[\"won\"] == 1][\"time\"].min()\n",
    "\n",
    "print(f\"Slowest Game Time: {round(slowest_game_time, 5)} seconds\")\n",
    "print(f\"Fastest Game Time: {round(fastest_game_time, 5)} seconds\")"
   ]
  },
  {
   "cell_type": "code",
   "execution_count": 11,
   "id": "6f93990a",
   "metadata": {},
   "outputs": [
    {
     "data": {
      "image/png": "[encoded data removed]",
      "text/plain": [
       "<Figure size 640x480 with 1 Axes>"
      ]
     },
     "metadata": {},
     "output_type": "display_data"
    }
   ],
   "source": [
    "# Distribution of time used\n",
    "fig, ax = plt.subplots(tight_layout=True)\n",
    "n_bins = 50\n",
    "ax.hist(df[\"time\"], bins=n_bins, density=True)\n",
    "plt.title(\"Distribution of Game Time (in seconds)\")\n",
    "plt.show()"
   ]
  },
  {
   "cell_type": "markdown",
   "id": "0086ba64",
   "metadata": {},
   "source": [
    "As we can see, the algorithm speed is always quite close to 0.01 seconds. Even on its slowest game, the speed still marks under 0.1 seconds. Since these number are way too low for us to understand, i showed it can play more than 60 games in just one second.<br><br>\n",
    "The histogram shows that the majority of the games lie close to 0.02 seconds of run time (the concentration of games close to 0.00 seconds is probably due to games that were only early using guesses in the first few moves).<br><br>\n",
    "When I started this project, my objective was for the algorithm to always perform in under 2 seconds, so I'm pretty satisfied with the results.<br><br>\n",
    "OBSERVATION: time performance will vary a lot depending on the machine you're running your code and other factors, such as how much your memory is being used at the time. However, it's likely the algorithm will perform under 0.1 seconds in all situations."
   ]
  },
  {
   "cell_type": "markdown",
   "id": "56b86b5d",
   "metadata": {},
   "source": [
    "### Conclusion "
   ]
  },
  {
   "cell_type": "markdown",
   "id": "8dd698a9",
   "metadata": {},
   "source": [
    "In terms of time, the algorithm performs really well.<br><br>\n",
    "In terms of win rate, however, it's difficulty to analyse without a comparison. I found this article made by Harvard (https://dash.harvard.edu/bitstream/handle/1/14398552/BECERRA-SENIORTHESIS-2015.pdf) that creates different algorithmic approaches to the minesweeper game. There, we can see that the first 5 models (described in Chapter 5) win less than 2% of games in hard mode (which they call expert mode). However, the next 2 models (described in Chapter 6), win about 30% of games in the same difficulty, showing that there's room por improvement in my algorithm, although it would need to get a lot more complex.<br><br>Probably the first place to make changes is the guessing strategy, since it only got a few guesses correct."
   ]
  }
 ],
 "metadata": {
  "kernelspec": {
   "display_name": "Python 3 (ipykernel)",
   "language": "python",
   "name": "python3"
  },
  "language_info": {
   "codemirror_mode": {
    "name": "ipython",
    "version": 3
   },
   "file_extension": ".py",
   "mimetype": "text/x-python",
   "name": "python",
   "nbconvert_exporter": "python",
   "pygments_lexer": "ipython3",
   "version": "3.9.13"
  }
 },
 "nbformat": 4,
 "nbformat_minor": 5
}

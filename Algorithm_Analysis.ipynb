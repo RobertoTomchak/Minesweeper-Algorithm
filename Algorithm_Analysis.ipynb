{
 "cells": [
  {
   "cell_type": "markdown",
   "metadata": {},
   "source": [
    "# Analysing the Minesweeper Algorithm"
   ]
  },
  {
   "cell_type": "markdown",
   "metadata": {},
   "source": [
    "## Objective"
   ]
  },
  {
   "cell_type": "markdown",
   "metadata": {},
   "source": [
    "The objective of this notebook is to analyse the performance of the minesweeper solver and how it plays the game."
   ]
  },
  {
   "cell_type": "markdown",
   "metadata": {},
   "source": [
    "## Loading data and libraries"
   ]
  },
  {
   "cell_type": "markdown",
   "metadata": {},
   "source": [
    "The data was generated in \"test_solver.py\" and saved in the \"minesweeper_data.csv\" file.\n",
    "<br><br>\n",
    "Each row is a game in hard difficulty (you can change the difficulty in \"test_solver.py\").\n",
    "<br><br>\n",
    "Columns of the dataset:\n",
    "- id: id of game\n",
    "- won: True if win; False otherwise\n",
    "- time: how much time (in seconds) to end game\n",
    "- strategies: vector of plays made (s -> simple strategy; c -> complex strategy, r -> random guess). For example, \"sscrr\" means the algorithm did 5 clicks, the first two using the simple strategy, next using the complex strategy, and then two random guesses."
   ]
  },
  {
   "cell_type": "code",
   "execution_count": 32,
   "metadata": {},
   "outputs": [],
   "source": [
    "# important libraries\n",
    "import pandas as pd\n",
    "import numpy as numpy\n",
    "import seaborn as sns"
   ]
  },
  {
   "cell_type": "code",
   "execution_count": 2,
   "metadata": {},
   "outputs": [
    {
     "data": {
      "text/html": [
       "<div>\n",
       "<style scoped>\n",
       "    .dataframe tbody tr th:only-of-type {\n",
       "        vertical-align: middle;\n",
       "    }\n",
       "\n",
       "    .dataframe tbody tr th {\n",
       "        vertical-align: top;\n",
       "    }\n",
       "\n",
       "    .dataframe thead th {\n",
       "        text-align: right;\n",
       "    }\n",
       "</style>\n",
       "<table border=\"1\" class=\"dataframe\">\n",
       "  <thead>\n",
       "    <tr style=\"text-align: right;\">\n",
       "      <th></th>\n",
       "      <th>id</th>\n",
       "      <th>won</th>\n",
       "      <th>time</th>\n",
       "      <th>strategies</th>\n",
       "    </tr>\n",
       "  </thead>\n",
       "  <tbody>\n",
       "    <tr>\n",
       "      <th>0</th>\n",
       "      <td>1</td>\n",
       "      <td>False</td>\n",
       "      <td>0.130462</td>\n",
       "      <td>ssssssssssssssssssssssssssssssssssssssssssssss...</td>\n",
       "    </tr>\n",
       "    <tr>\n",
       "      <th>1</th>\n",
       "      <td>2</td>\n",
       "      <td>False</td>\n",
       "      <td>0.039096</td>\n",
       "      <td>ssssssssssssssssssssssssssssssssssssssssssssss...</td>\n",
       "    </tr>\n",
       "    <tr>\n",
       "      <th>2</th>\n",
       "      <td>3</td>\n",
       "      <td>False</td>\n",
       "      <td>0.039250</td>\n",
       "      <td>ssssssssssssssssssssssssssssssssssssssssssssss...</td>\n",
       "    </tr>\n",
       "    <tr>\n",
       "      <th>3</th>\n",
       "      <td>4</td>\n",
       "      <td>True</td>\n",
       "      <td>0.067512</td>\n",
       "      <td>ssssssccccccccssssssssssssssssssssssssssssssss...</td>\n",
       "    </tr>\n",
       "    <tr>\n",
       "      <th>4</th>\n",
       "      <td>5</td>\n",
       "      <td>False</td>\n",
       "      <td>0.043340</td>\n",
       "      <td>sssssssssssssssssssssssssssssssssssssssccccccc...</td>\n",
       "    </tr>\n",
       "    <tr>\n",
       "      <th>...</th>\n",
       "      <td>...</td>\n",
       "      <td>...</td>\n",
       "      <td>...</td>\n",
       "      <td>...</td>\n",
       "    </tr>\n",
       "    <tr>\n",
       "      <th>9995</th>\n",
       "      <td>9996</td>\n",
       "      <td>True</td>\n",
       "      <td>0.048499</td>\n",
       "      <td>sssssssssssssssssssssssscccsssssssssssssssssss...</td>\n",
       "    </tr>\n",
       "    <tr>\n",
       "      <th>9996</th>\n",
       "      <td>9997</td>\n",
       "      <td>False</td>\n",
       "      <td>0.055806</td>\n",
       "      <td>ssssssssssssssssssssssssssssssssssssssssssssss...</td>\n",
       "    </tr>\n",
       "    <tr>\n",
       "      <th>9997</th>\n",
       "      <td>9998</td>\n",
       "      <td>True</td>\n",
       "      <td>0.063424</td>\n",
       "      <td>ssssssssssssssssssssssssssssssssssssssssssssss...</td>\n",
       "    </tr>\n",
       "    <tr>\n",
       "      <th>9998</th>\n",
       "      <td>9999</td>\n",
       "      <td>False</td>\n",
       "      <td>0.027212</td>\n",
       "      <td>ssssssssssssssssssssssssssssssssssssssssssssss...</td>\n",
       "    </tr>\n",
       "    <tr>\n",
       "      <th>9999</th>\n",
       "      <td>10000</td>\n",
       "      <td>False</td>\n",
       "      <td>0.052408</td>\n",
       "      <td>sssssssssssssssssssssssssssssssssssccccccccccc...</td>\n",
       "    </tr>\n",
       "  </tbody>\n",
       "</table>\n",
       "<p>10000 rows × 4 columns</p>\n",
       "</div>"
      ],
      "text/plain": [
       "         id    won      time   \n",
       "0         1  False  0.130462  \\\n",
       "1         2  False  0.039096   \n",
       "2         3  False  0.039250   \n",
       "3         4   True  0.067512   \n",
       "4         5  False  0.043340   \n",
       "...     ...    ...       ...   \n",
       "9995   9996   True  0.048499   \n",
       "9996   9997  False  0.055806   \n",
       "9997   9998   True  0.063424   \n",
       "9998   9999  False  0.027212   \n",
       "9999  10000  False  0.052408   \n",
       "\n",
       "                                             strategies  \n",
       "0     ssssssssssssssssssssssssssssssssssssssssssssss...  \n",
       "1     ssssssssssssssssssssssssssssssssssssssssssssss...  \n",
       "2     ssssssssssssssssssssssssssssssssssssssssssssss...  \n",
       "3     ssssssccccccccssssssssssssssssssssssssssssssss...  \n",
       "4     sssssssssssssssssssssssssssssssssssssssccccccc...  \n",
       "...                                                 ...  \n",
       "9995  sssssssssssssssssssssssscccsssssssssssssssssss...  \n",
       "9996  ssssssssssssssssssssssssssssssssssssssssssssss...  \n",
       "9997  ssssssssssssssssssssssssssssssssssssssssssssss...  \n",
       "9998  ssssssssssssssssssssssssssssssssssssssssssssss...  \n",
       "9999  sssssssssssssssssssssssssssssssssssccccccccccc...  \n",
       "\n",
       "[10000 rows x 4 columns]"
      ]
     },
     "execution_count": 2,
     "metadata": {},
     "output_type": "execute_result"
    }
   ],
   "source": [
    "df = pd.read_csv(\"minesweeper_data.csv\")\n",
    "df"
   ]
  },
  {
   "cell_type": "code",
   "execution_count": 10,
   "metadata": {},
   "outputs": [
    {
     "data": {
      "text/plain": [
       "strategies\n",
       "r    6965\n",
       "Name: count, dtype: int64"
      ]
     },
     "execution_count": 10,
     "metadata": {},
     "output_type": "execute_result"
    }
   ],
   "source": [
    "# The algorithm should only lose when making a random guess. Let's verify if that's the case (last play of lost games should always be \"r\")\n",
    "df[\"strategies\"][df[\"won\"] == False].apply(lambda s: s[-1]).value_counts()"
   ]
  },
  {
   "cell_type": "code",
   "execution_count": 25,
   "metadata": {},
   "outputs": [],
   "source": [
    "# simple function that will be used alot\n",
    "# returns the % with two decimal places (ex: porcentage(1, 2) = 50.00)\n",
    "def porcentage(a, b):\n",
    "    return round(100 * a / b, 2)"
   ]
  },
  {
   "cell_type": "markdown",
   "metadata": {},
   "source": [
    "## Winning Games and Strategies"
   ]
  },
  {
   "cell_type": "markdown",
   "metadata": {},
   "source": [
    "Here, we want to understand how good the algorithm is at winning games, as well as which strategies are more valuable."
   ]
  },
  {
   "cell_type": "code",
   "execution_count": 13,
   "metadata": {},
   "outputs": [
    {
     "name": "stdout",
     "output_type": "stream",
     "text": [
      "Win Rate: 30.35%\n"
     ]
    }
   ],
   "source": [
    "# Basic win rate\n",
    "print(f\"Win Rate: {round(100 * df['won'].mean(), 2)}%\")"
   ]
  },
  {
   "cell_type": "code",
   "execution_count": 20,
   "metadata": {},
   "outputs": [
    {
     "name": "stdout",
     "output_type": "stream",
     "text": [
      "Win Rate without guessing: 9.16%\n"
     ]
    }
   ],
   "source": [
    "# How many games are won without guessing?\n",
    "df[\"hasGuessed\"] = df[\"strategies\"].apply(lambda s: \"r\" in s)\n",
    "wins_guessed = df[\"won\"][df[\"hasGuessed\"]].sum()\n",
    "won_games = df[\"won\"].sum()\n",
    "print(f\"Win Rate without guessing: {round(100 * (won_games - wins_guessed) / len(df), 2)}%\")"
   ]
  },
  {
   "cell_type": "code",
   "execution_count": 21,
   "metadata": {},
   "outputs": [
    {
     "name": "stdout",
     "output_type": "stream",
     "text": [
      "Win Rate with only simple strategy: 0.08%\n"
     ]
    }
   ],
   "source": [
    "# How many games are won without guessing nor using complex strategy?\n",
    "df[\"onlySimple\"] = df[\"strategies\"].apply(lambda s: \"r\" not in s and \"c\" not in s)\n",
    "wins_simple = df[\"won\"][df[\"onlySimple\"]].sum()\n",
    "print(f\"Win Rate with only simple strategy: {round(100 * (wins_simple) / len(df), 2)}%\")"
   ]
  },
  {
   "cell_type": "code",
   "execution_count": 26,
   "metadata": {},
   "outputs": [
    {
     "name": "stdout",
     "output_type": "stream",
     "text": [
      "Frequency of each strategy:\n",
      "Simple: 89.33%\n",
      "Complex: 9.61%\n",
      "Random: 1.06%\n"
     ]
    }
   ],
   "source": [
    "# How often is each strategy used?\n",
    "count_simple = df[\"strategies\"].apply(lambda s: s.count(\"s\")).sum()\n",
    "count_complex = df[\"strategies\"].apply(lambda s: s.count(\"c\")).sum()\n",
    "count_random = df[\"strategies\"].apply(lambda s: s.count(\"r\")).sum()\n",
    "count_total = count_simple + count_complex + count_random\n",
    "print(\"Frequency of each strategy:\")\n",
    "print(f\"Simple: {porcentage(count_simple, count_total)}%\")\n",
    "print(f\"Complex: {porcentage(count_complex, count_total)}%\")\n",
    "print(f\"Random: {porcentage(count_random, count_total)}%\")"
   ]
  },
  {
   "cell_type": "code",
   "execution_count": 27,
   "metadata": {},
   "outputs": [
    {
     "name": "stdout",
     "output_type": "stream",
     "text": [
      "Frequency of each strategy:\n",
      "Simple: 90.24%\n",
      "Complex: 9.14%\n",
      "Random: 0.62%\n"
     ]
    }
   ],
   "source": [
    "# How often is each strategy used in won games?\n",
    "count_simple = df[\"strategies\"][df[\"won\"]].apply(lambda s: s.count(\"s\")).sum()\n",
    "count_complex = df[\"strategies\"][df[\"won\"]].apply(lambda s: s.count(\"c\")).sum()\n",
    "count_random = df[\"strategies\"][df[\"won\"]].apply(lambda s: s.count(\"r\")).sum()\n",
    "count_total = count_simple + count_complex + count_random\n",
    "print(\"Frequency of each strategy:\")\n",
    "print(f\"Simple: {porcentage(count_simple, count_total)}%\")\n",
    "print(f\"Complex: {porcentage(count_complex, count_total)}%\")\n",
    "print(f\"Random: {porcentage(count_random, count_total)}%\")"
   ]
  },
  {
   "cell_type": "markdown",
   "metadata": {},
   "source": [
    "What we can conclude:\n",
    "- The game has a win rate of about 30.35% (considering a confidence interval of 95%, it's between 27.25% and 33.45%);\n",
    "- Allowing guesses, even though is what makes it lose games, is necessary to game a good win rate;\n",
    "- Without the usage of more complex strategies, the algorithm can't win even 0.1% of games;\n",
    "- Even though complex strategies and random guesses are necessary, most of the plays are using simple strategies. This means that most of the won games uses these complex and random strategies in only a few plays."
   ]
  },
  {
   "cell_type": "markdown",
   "metadata": {},
   "source": [
    "## Time Performance and Number of Plays"
   ]
  },
  {
   "cell_type": "markdown",
   "metadata": {},
   "source": [
    "Here, we want to analyise the algorithm by time performace. Another way to understand the speed of the algorithm is by looking at how many plays/clicks it does. "
   ]
  },
  {
   "cell_type": "code",
   "execution_count": 29,
   "metadata": {},
   "outputs": [
    {
     "name": "stdout",
     "output_type": "stream",
     "text": [
      "Average Time (Total): 0.05756 seconds\n",
      "Average Time (Wins): 0.06189 seconds\n",
      "Average Time (Losses): 0.05567 seconds\n"
     ]
    }
   ],
   "source": [
    "# Average Time Performance in all games, in wins and losses\n",
    "time_all = df[\"time\"].mean()\n",
    "time_wins = df[\"time\"][df[\"won\"]].mean()\n",
    "time_losses = df[\"time\"][df[\"won\"] == False].mean()\n",
    "\n",
    "print(f\"Average Time (Total): {round(time_all, 5)} seconds\")\n",
    "print(f\"Average Time (Wins): {round(time_wins, 5)} seconds\")\n",
    "print(f\"Average Time (Losses): {round(time_losses, 5)} seconds\")"
   ]
  },
  {
   "cell_type": "code",
   "execution_count": 30,
   "metadata": {},
   "outputs": [
    {
     "name": "stdout",
     "output_type": "stream",
     "text": [
      "Number of Games per second: 17\n"
     ]
    }
   ],
   "source": [
    "# How many games per second?\n",
    "games_per_second = round(1 / time_all)\n",
    "print(f\"Number of Games per second: {games_per_second}\")"
   ]
  },
  {
   "cell_type": "code",
   "execution_count": 31,
   "metadata": {},
   "outputs": [
    {
     "name": "stdout",
     "output_type": "stream",
     "text": [
      "Algorithm vs. Human: 475.6x times faster\n"
     ]
    }
   ],
   "source": [
    "# How much faster than world record? (Ze-En Ju, in 2020, did in 29.43 seconds)\n",
    "world_record = 29.43\n",
    "faster = round(world_record / time_wins, 1)\n",
    "print(f\"Algorithm vs. Human: {faster}x times faster\")"
   ]
  },
  {
   "cell_type": "code",
   "execution_count": 39,
   "metadata": {},
   "outputs": [
    {
     "name": "stdout",
     "output_type": "stream",
     "text": [
      "Slowest time: 5.807340383529663 seconds\n",
      "Fastest time: 0.0166773796081542 seconds\n"
     ]
    }
   ],
   "source": [
    "# Slowest and Fastest games (only considering fastest win, since losses can be almost instantaneous)\n",
    "print(f\"Slowest time: {df['time'].max()} seconds\")\n",
    "print(f\"Fastest time: {df['time'][df['won']].min()} seconds\")"
   ]
  },
  {
   "cell_type": "code",
   "execution_count": 42,
   "metadata": {},
   "outputs": [
    {
     "name": "stdout",
     "output_type": "stream",
     "text": [
      "Number of Games that took over a second: 14 (0.14%)\n"
     ]
    }
   ],
   "source": [
    "# How many games took more than one second?\n",
    "slow_games = len(df[df[\"time\"] > 1])\n",
    "print(f\"Number of Games that took over a second: {slow_games} ({porcentage(slow_games, len(df))}%)\")"
   ]
  },
  {
   "cell_type": "code",
   "execution_count": 50,
   "metadata": {},
   "outputs": [
    {
     "name": "stdout",
     "output_type": "stream",
     "text": [
      " < 0.1 seconds: 92.13%\n",
      " < 0.2 seconds: 97.69%\n",
      " < 0.3 seconds: 98.91%\n",
      " < 0.4 seconds: 99.29%\n",
      " < 0.5 seconds: 99.55%\n",
      " < 0.6 seconds: 99.71%\n",
      " < 0.7 seconds: 99.75%\n",
      " < 0.8 seconds: 99.76%\n",
      " < 0.9 seconds: 99.81%\n",
      " < 1.0 seconds: 99.86%\n",
      " < 1.1 seconds: 99.9%\n",
      " < 1.2 seconds: 99.9%\n",
      " < 1.3 seconds: 99.96%\n",
      " < 1.4 seconds: 99.97%\n",
      " < 1.5 seconds: 99.98%\n",
      " < 1.6 seconds: 99.98%\n",
      " < 1.7 seconds: 99.98%\n",
      " < 1.8 seconds: 99.98%\n",
      " < 1.9 seconds: 99.98%\n",
      " < 2.0 seconds: 99.98%\n",
      " < 2.1 seconds: 99.98%\n",
      " < 2.2 seconds: 99.98%\n",
      " < 2.3 seconds: 99.98%\n",
      " < 2.4 seconds: 99.98%\n",
      " < 2.5 seconds: 99.98%\n",
      " < 2.6 seconds: 99.98%\n",
      " < 2.7 seconds: 99.98%\n",
      " < 2.8 seconds: 99.98%\n",
      " < 2.9 seconds: 99.99%\n",
      " < 3.0 seconds: 99.99%\n",
      " < 3.1 seconds: 99.99%\n",
      " < 3.2 seconds: 99.99%\n",
      " < 3.3 seconds: 99.99%\n",
      " < 3.4 seconds: 99.99%\n",
      " < 3.5 seconds: 99.99%\n",
      " < 3.6 seconds: 99.99%\n",
      " < 3.7 seconds: 99.99%\n",
      " < 3.8 seconds: 99.99%\n",
      " < 3.9 seconds: 99.99%\n",
      " < 4.0 seconds: 99.99%\n",
      " < 4.1 seconds: 99.99%\n",
      " < 4.2 seconds: 99.99%\n",
      " < 4.3 seconds: 99.99%\n",
      " < 4.4 seconds: 99.99%\n",
      " < 4.5 seconds: 99.99%\n",
      " < 4.6 seconds: 99.99%\n",
      " < 4.7 seconds: 99.99%\n",
      " < 4.8 seconds: 99.99%\n",
      " < 4.9 seconds: 99.99%\n",
      " < 5.0 seconds: 99.99%\n",
      " < 5.1 seconds: 99.99%\n",
      " < 5.2 seconds: 99.99%\n",
      " < 5.3 seconds: 99.99%\n",
      " < 5.4 seconds: 99.99%\n",
      " < 5.5 seconds: 99.99%\n",
      " < 5.6 seconds: 99.99%\n",
      " < 5.7 seconds: 99.99%\n",
      " < 5.8 seconds: 99.99%\n",
      " < 5.9 seconds: 99.99%\n"
     ]
    }
   ],
   "source": [
    "# Distribution of time spent (by intervals of 0.1 seconds)\n",
    "interval = 0.1\n",
    "top = interval\n",
    "while len(df[df[\"time\"] < top]) < len(df):\n",
    "    n_games = len(df[df[\"time\"] < top])\n",
    "    print(f\" < {round(top, 1)} seconds: {porcentage(n_games, len(df))}%\")\n",
    "    top += interval\n",
    "print(f\" < {round(top, 1)} seconds: {porcentage(n_games, len(df))}%\")"
   ]
  },
  {
   "cell_type": "code",
   "execution_count": 43,
   "metadata": {},
   "outputs": [
    {
     "data": {
      "text/plain": [
       "<Axes: xlabel='time', ylabel='Count'>"
      ]
     },
     "execution_count": 43,
     "metadata": {},
     "output_type": "execute_result"
    },
    {
     "data": {
      "image/png": "[encoded data removed]",
      "text/plain": [
       "<Figure size 640x480 with 1 Axes>"
      ]
     },
     "metadata": {},
     "output_type": "display_data"
    }
   ],
   "source": [
    "# Plotting Distribution of time spent (only considering games that took less than a second)\n",
    "sns.histplot(df[\"time\"], binrange=(0, 1))"
   ]
  },
  {
   "cell_type": "code",
   "execution_count": 62,
   "metadata": {},
   "outputs": [
    {
     "name": "stdout",
     "output_type": "stream",
     "text": [
      "Average Time with Outliers: 0.05756 seconds\n",
      "Average Time without Outliers: 0.05339 seconds\n"
     ]
    }
   ],
   "source": [
    "# Average time per game (without outliers). Considering outliers games the top 0.5% slowest games and top 0.5% fastest games\n",
    "top = round(0.5 / 100 * len(df)) # getting 0.5% of total games\n",
    "top_slowest = df[\"time\"].nlargest(top).min()\n",
    "top_fastest = df[\"time\"].nsmallest(top).max()\n",
    "not_outliers = df[(df[\"time\"] > top_fastest) & (df[\"time\"] < top_slowest)]  # anithing between the outliers vaues\n",
    "print(f\"Average Time with Outliers: {round(df['time'].mean(), 5)} seconds\")\n",
    "print(f\"Average Time without Outliers: {round(not_outliers['time'].mean(), 5)} seconds\")"
   ]
  },
  {
   "cell_type": "code",
   "execution_count": 63,
   "metadata": {},
   "outputs": [
    {
     "name": "stdout",
     "output_type": "stream",
     "text": [
      "Average Time without slowest games: 0.05313 seconds\n"
     ]
    }
   ],
   "source": [
    "# Average time per game, without top 0.5% slowest only\n",
    "top = round(0.5 / 100 * len(df)) # getting 0.5% of total games\n",
    "top_slowest = df[\"time\"].nlargest(top).min()\n",
    "not_outliers = df[df[\"time\"] < top_slowest]  # anithing between the outliers vaues\n",
    "print(f\"Average Time without slowest games: {round(not_outliers['time'].mean(), 5)} seconds\")"
   ]
  },
  {
   "cell_type": "code",
   "execution_count": 65,
   "metadata": {},
   "outputs": [
    {
     "name": "stdout",
     "output_type": "stream",
     "text": [
      "Average Number of Plays: 233.79\n"
     ]
    }
   ],
   "source": [
    "# Average number of plays\n",
    "n_plays = df[\"strategies\"].apply(len).mean()\n",
    "print(f\"Average Number of Plays: {round(n_plays, 2)}\")"
   ]
  },
  {
   "cell_type": "code",
   "execution_count": 71,
   "metadata": {},
   "outputs": [
    {
     "name": "stdout",
     "output_type": "stream",
     "text": [
      "Average Number of Plays in wins: 304.18\n"
     ]
    }
   ],
   "source": [
    "# Average number of plays in wins\n",
    "n_plays_wins = df[\"strategies\"][df[\"won\"]].apply(len).mean()\n",
    "print(f\"Average Number of Plays in wins: {round(n_plays_wins, 2)}\")"
   ]
  },
  {
   "cell_type": "code",
   "execution_count": 72,
   "metadata": {},
   "outputs": [
    {
     "name": "stdout",
     "output_type": "stream",
     "text": [
      "Average Number of Plays in wins: 203.11\n"
     ]
    }
   ],
   "source": [
    "# Average number of plays in losses\n",
    "n_plays_losses = df[\"strategies\"][df[\"won\"] == False].apply(len).mean()\n",
    "print(f\"Average Number of Plays in wins: {round(n_plays_losses, 2)}\")"
   ]
  },
  {
   "cell_type": "code",
   "execution_count": 73,
   "metadata": {},
   "outputs": [
    {
     "name": "stdout",
     "output_type": "stream",
     "text": [
      "Plays per Win / Plays per Loss: 66.77\n"
     ]
    }
   ],
   "source": [
    "# Ratio between these two\n",
    "print(f\"Plays per Win / Plays per Loss: {porcentage(n_plays_losses, n_plays_wins)}\")"
   ]
  },
  {
   "cell_type": "code",
   "execution_count": 67,
   "metadata": {},
   "outputs": [
    {
     "name": "stdout",
     "output_type": "stream",
     "text": [
      "Average Time per play: 0.24619 miliseconds\n"
     ]
    }
   ],
   "source": [
    "# Average time per play (turn into miliseconds since it's very small)\n",
    "avg_time = df[\"time\"].mean() * 1000\n",
    "print(f\"Average Time per play: {round(avg_time / n_plays, 5)} miliseconds\")"
   ]
  },
  {
   "cell_type": "code",
   "execution_count": 68,
   "metadata": {},
   "outputs": [
    {
     "name": "stdout",
     "output_type": "stream",
     "text": [
      "Plays per second: 4062\n"
     ]
    }
   ],
   "source": [
    "# Number of plays per second\n",
    "avg_time = df[\"time\"].mean()\n",
    "plays_per_second = round(n_plays / avg_time)\n",
    "print(f\"Plays per second: {plays_per_second}\")"
   ]
  },
  {
   "cell_type": "markdown",
   "metadata": {},
   "source": [
    "What we can conclude:\n",
    "- The average time per wins and losses is about the same;\n",
    "- The algorithm is various orders of magnitude faster than a human;\n",
    "- Even though some games took a few seconds, 99% of them take less than 0.4 seconds;\n",
    "- The outliers don't impact the average time;\n",
    "- It takes about 300 clicks to win a game;\n",
    "- Since the number of clicks on losses is only about 67% of number of clicks in wins, but average time in both cenarios is about the same, it seems to indicate that the algorithm is faster in the last plays (which makes sense, considering the complexity of the plays increases with the number of unknown tiles);\n",
    "- When looking at the algorithm playing in the interface, it seems to do a lot less than 4000 plays per second. This shows how much slower the UI is compared to the algorithm."
   ]
  },
  {
   "cell_type": "markdown",
   "metadata": {},
   "source": [
    "## Conclusion"
   ]
  },
  {
   "cell_type": "markdown",
   "metadata": {},
   "source": [
    "The algorithm has a really good win rate. Comparing to others solvers, it has about the same accuracy (most good solvers in the internet have a little ober 30% win rate just like this one). The speed of the algorithm is also really good, to the point that, for the graphic interface, the time spent to calculate plays is irrelevant. There's no reason trying to make the algorithm go even faster without optimizing the interface first.\n",
    "<br><br>\n",
    "Comparing the algorithm to a human, a quick online search shows that a good player can win about 33% of games (maybe 40% for a perfect player). This would make this solver about as good as an average good minesweeper player (with the fact that it is 400x faster than the fastest person)."
   ]
  }
 ],
 "metadata": {
  "kernelspec": {
   "display_name": "Python 3",
   "language": "python",
   "name": "python3"
  },
  "language_info": {
   "codemirror_mode": {
    "name": "ipython",
    "version": 3
   },
   "file_extension": ".py",
   "mimetype": "text/x-python",
   "name": "python",
   "nbconvert_exporter": "python",
   "pygments_lexer": "ipython3",
   "version": "3.10.12"
  }
 },
 "nbformat": 4,
 "nbformat_minor": 2
}
